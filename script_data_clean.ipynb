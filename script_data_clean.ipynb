{
 "cells": [
  {
   "cell_type": "markdown",
   "metadata": {},
   "source": [
    "# Hotel Booking Data Analysis - Part I: Data Cleaning\n",
    "\n",
    "This dataset stores the booking information in the property management system (PMS) of **a resort hoetl** and **a city hotel**. They are located at the resort region of Algarve and the city of Lisbon in Portugal. The dataset comprehends bookings due to arrival between the **1st of July of 2015** and the **31st of August 2017**, including bookings that effectively arrived and bookings that were canceled.\n",
    "\n",
    "## Goal\n",
    "In this analysis we are going to inspect various aspects of the booking information and make data-based suggestions to the hotels. To improve readability, this notebook only includes the part of data cleaning. You can view the data anlysis part in a different Jupyter notebook (*Hotel Booking Data Analysis - Part II: Data Analysis*) and a post displaying Tableau dashbords.\n",
    "\n",
    "Our analysis cover these topics:  \n",
    "  \n",
    "#### Python analysis\n",
    "- How does the cancelation rate look like? Is it especially higher for any market segmentation?\n",
    "- What are the common profiles shared by the repeat customers?\n",
    "- Does the current room type configuration meet the demand? \n",
    "  \n",
    "#### Tableau analysis\n",
    "- How does the revenue vary by month?\n",
    "- The contribution to revenue by market segment, customer type, the origin of customer country, and room type.\n",
    "\n",
    "## Data Source\n",
    "**The original dataset**:  \n",
    "\n",
    "*[Antonio, Nuno, Ana de Almeida, and Luis Nunes. \"Hotel booking demand datasets.\" Data in brief 22 (2019): 41-49.](https://www.sciencedirect.com/science/article/pii/S2352340918315191#f0010)*\n",
    "\n",
    "**The dataset used in this analysis**:\n",
    "  \n",
    "*[tidytuesday](https://github.com/rfordatascience/tidytuesday/blob/master/data/2020/2020-02-11/readme.md)*  \n",
    "  \n",
    "This dataset combined the original data from both hotels into one, formatted the original column names, and separated the date information. We start from here.  \n",
    "\n",
    "## Data Description\n",
    "The data from both hotels share the same structure, with **31 columns** describing **40,060 bookings of the resort hotel** and **79,330 booking of the city hotel**.\n",
    "\n",
    "Due to the large number of columns, we do not explicitly describe each of them here separately. The explanation of a column will be given when mentioned for the first time.\n",
    "\n",
    "## Data Cleaning\n",
    "The data source paper stated that the PMS assured **no missing data exists in its database tables**. Therefore we do not need to clean the missing data in this analysis. **In this data, the *NULL* presented should not be considered a missing value, but rather as “not applicable”.** For example, if a booking **Agent** is defined as *NULL* it means that the booking did not came from a travel agent."
   ]
  },
  {
   "cell_type": "code",
   "execution_count": 1,
   "metadata": {},
   "outputs": [],
   "source": [
    "# Load necessary modules and read in the data\n",
    "import pandas as pd\n",
    "import numpy as np\n",
    "import datetime as dt\n",
    "import matplotlib.pyplot as plt\n",
    "%matplotlib inline"
   ]
  },
  {
   "cell_type": "code",
   "execution_count": 2,
   "metadata": {},
   "outputs": [],
   "source": [
    "data = pd.read_csv(\"hotel_bookings.csv\", encoding='latin-1')"
   ]
  },
  {
   "cell_type": "markdown",
   "metadata": {},
   "source": [
    "### 1. Data Overview"
   ]
  },
  {
   "cell_type": "code",
   "execution_count": 3,
   "metadata": {},
   "outputs": [
    {
     "data": {
      "text/plain": [
       "Index(['hotel', 'is_canceled', 'lead_time', 'arrival_date_year',\n",
       "       'arrival_date_month', 'arrival_date_week_number',\n",
       "       'arrival_date_day_of_month', 'stays_in_weekend_nights',\n",
       "       'stays_in_week_nights', 'adults', 'children', 'babies', 'meal',\n",
       "       'country', 'market_segment', 'distribution_channel',\n",
       "       'is_repeated_guest', 'previous_cancellations',\n",
       "       'previous_bookings_not_canceled', 'reserved_room_type',\n",
       "       'assigned_room_type', 'booking_changes', 'deposit_type', 'agent',\n",
       "       'company', 'days_in_waiting_list', 'customer_type', 'adr',\n",
       "       'required_car_parking_spaces', 'total_of_special_requests',\n",
       "       'reservation_status', 'reservation_status_date'],\n",
       "      dtype='object')"
      ]
     },
     "execution_count": 3,
     "metadata": {},
     "output_type": "execute_result"
    }
   ],
   "source": [
    "data.columns"
   ]
  },
  {
   "cell_type": "markdown",
   "metadata": {},
   "source": [
    "We can see that the column names are already clean (all the names are spelled in lower cases with no spaces between words). Therefore there is no need to unify the column names. Let's take a look at the how the data look like."
   ]
  },
  {
   "cell_type": "code",
   "execution_count": 4,
   "metadata": {},
   "outputs": [
    {
     "data": {
      "text/html": [
       "<div>\n",
       "<style scoped>\n",
       "    .dataframe tbody tr th:only-of-type {\n",
       "        vertical-align: middle;\n",
       "    }\n",
       "\n",
       "    .dataframe tbody tr th {\n",
       "        vertical-align: top;\n",
       "    }\n",
       "\n",
       "    .dataframe thead th {\n",
       "        text-align: right;\n",
       "    }\n",
       "</style>\n",
       "<table border=\"1\" class=\"dataframe\">\n",
       "  <thead>\n",
       "    <tr style=\"text-align: right;\">\n",
       "      <th></th>\n",
       "      <th>hotel</th>\n",
       "      <th>is_canceled</th>\n",
       "      <th>lead_time</th>\n",
       "      <th>arrival_date_year</th>\n",
       "      <th>arrival_date_month</th>\n",
       "      <th>arrival_date_week_number</th>\n",
       "      <th>arrival_date_day_of_month</th>\n",
       "      <th>stays_in_weekend_nights</th>\n",
       "      <th>stays_in_week_nights</th>\n",
       "      <th>adults</th>\n",
       "      <th>...</th>\n",
       "      <th>deposit_type</th>\n",
       "      <th>agent</th>\n",
       "      <th>company</th>\n",
       "      <th>days_in_waiting_list</th>\n",
       "      <th>customer_type</th>\n",
       "      <th>adr</th>\n",
       "      <th>required_car_parking_spaces</th>\n",
       "      <th>total_of_special_requests</th>\n",
       "      <th>reservation_status</th>\n",
       "      <th>reservation_status_date</th>\n",
       "    </tr>\n",
       "  </thead>\n",
       "  <tbody>\n",
       "    <tr>\n",
       "      <th>0</th>\n",
       "      <td>Resort Hotel</td>\n",
       "      <td>0</td>\n",
       "      <td>342</td>\n",
       "      <td>2015</td>\n",
       "      <td>July</td>\n",
       "      <td>27</td>\n",
       "      <td>1</td>\n",
       "      <td>0</td>\n",
       "      <td>0</td>\n",
       "      <td>2</td>\n",
       "      <td>...</td>\n",
       "      <td>No Deposit</td>\n",
       "      <td>NaN</td>\n",
       "      <td>NaN</td>\n",
       "      <td>0</td>\n",
       "      <td>Transient</td>\n",
       "      <td>0.0</td>\n",
       "      <td>0</td>\n",
       "      <td>0</td>\n",
       "      <td>Check-Out</td>\n",
       "      <td>2015-07-01</td>\n",
       "    </tr>\n",
       "    <tr>\n",
       "      <th>1</th>\n",
       "      <td>Resort Hotel</td>\n",
       "      <td>0</td>\n",
       "      <td>737</td>\n",
       "      <td>2015</td>\n",
       "      <td>July</td>\n",
       "      <td>27</td>\n",
       "      <td>1</td>\n",
       "      <td>0</td>\n",
       "      <td>0</td>\n",
       "      <td>2</td>\n",
       "      <td>...</td>\n",
       "      <td>No Deposit</td>\n",
       "      <td>NaN</td>\n",
       "      <td>NaN</td>\n",
       "      <td>0</td>\n",
       "      <td>Transient</td>\n",
       "      <td>0.0</td>\n",
       "      <td>0</td>\n",
       "      <td>0</td>\n",
       "      <td>Check-Out</td>\n",
       "      <td>2015-07-01</td>\n",
       "    </tr>\n",
       "    <tr>\n",
       "      <th>2</th>\n",
       "      <td>Resort Hotel</td>\n",
       "      <td>0</td>\n",
       "      <td>7</td>\n",
       "      <td>2015</td>\n",
       "      <td>July</td>\n",
       "      <td>27</td>\n",
       "      <td>1</td>\n",
       "      <td>0</td>\n",
       "      <td>1</td>\n",
       "      <td>1</td>\n",
       "      <td>...</td>\n",
       "      <td>No Deposit</td>\n",
       "      <td>NaN</td>\n",
       "      <td>NaN</td>\n",
       "      <td>0</td>\n",
       "      <td>Transient</td>\n",
       "      <td>75.0</td>\n",
       "      <td>0</td>\n",
       "      <td>0</td>\n",
       "      <td>Check-Out</td>\n",
       "      <td>2015-07-02</td>\n",
       "    </tr>\n",
       "    <tr>\n",
       "      <th>3</th>\n",
       "      <td>Resort Hotel</td>\n",
       "      <td>0</td>\n",
       "      <td>13</td>\n",
       "      <td>2015</td>\n",
       "      <td>July</td>\n",
       "      <td>27</td>\n",
       "      <td>1</td>\n",
       "      <td>0</td>\n",
       "      <td>1</td>\n",
       "      <td>1</td>\n",
       "      <td>...</td>\n",
       "      <td>No Deposit</td>\n",
       "      <td>304.0</td>\n",
       "      <td>NaN</td>\n",
       "      <td>0</td>\n",
       "      <td>Transient</td>\n",
       "      <td>75.0</td>\n",
       "      <td>0</td>\n",
       "      <td>0</td>\n",
       "      <td>Check-Out</td>\n",
       "      <td>2015-07-02</td>\n",
       "    </tr>\n",
       "    <tr>\n",
       "      <th>4</th>\n",
       "      <td>Resort Hotel</td>\n",
       "      <td>0</td>\n",
       "      <td>14</td>\n",
       "      <td>2015</td>\n",
       "      <td>July</td>\n",
       "      <td>27</td>\n",
       "      <td>1</td>\n",
       "      <td>0</td>\n",
       "      <td>2</td>\n",
       "      <td>2</td>\n",
       "      <td>...</td>\n",
       "      <td>No Deposit</td>\n",
       "      <td>240.0</td>\n",
       "      <td>NaN</td>\n",
       "      <td>0</td>\n",
       "      <td>Transient</td>\n",
       "      <td>98.0</td>\n",
       "      <td>0</td>\n",
       "      <td>1</td>\n",
       "      <td>Check-Out</td>\n",
       "      <td>2015-07-03</td>\n",
       "    </tr>\n",
       "  </tbody>\n",
       "</table>\n",
       "<p>5 rows × 32 columns</p>\n",
       "</div>"
      ],
      "text/plain": [
       "          hotel  is_canceled  lead_time  arrival_date_year arrival_date_month  \\\n",
       "0  Resort Hotel            0        342               2015               July   \n",
       "1  Resort Hotel            0        737               2015               July   \n",
       "2  Resort Hotel            0          7               2015               July   \n",
       "3  Resort Hotel            0         13               2015               July   \n",
       "4  Resort Hotel            0         14               2015               July   \n",
       "\n",
       "   arrival_date_week_number  arrival_date_day_of_month  \\\n",
       "0                        27                          1   \n",
       "1                        27                          1   \n",
       "2                        27                          1   \n",
       "3                        27                          1   \n",
       "4                        27                          1   \n",
       "\n",
       "   stays_in_weekend_nights  stays_in_week_nights  adults  ...  deposit_type  \\\n",
       "0                        0                     0       2  ...    No Deposit   \n",
       "1                        0                     0       2  ...    No Deposit   \n",
       "2                        0                     1       1  ...    No Deposit   \n",
       "3                        0                     1       1  ...    No Deposit   \n",
       "4                        0                     2       2  ...    No Deposit   \n",
       "\n",
       "   agent company days_in_waiting_list customer_type   adr  \\\n",
       "0    NaN     NaN                    0     Transient   0.0   \n",
       "1    NaN     NaN                    0     Transient   0.0   \n",
       "2    NaN     NaN                    0     Transient  75.0   \n",
       "3  304.0     NaN                    0     Transient  75.0   \n",
       "4  240.0     NaN                    0     Transient  98.0   \n",
       "\n",
       "   required_car_parking_spaces  total_of_special_requests  reservation_status  \\\n",
       "0                            0                          0           Check-Out   \n",
       "1                            0                          0           Check-Out   \n",
       "2                            0                          0           Check-Out   \n",
       "3                            0                          0           Check-Out   \n",
       "4                            0                          1           Check-Out   \n",
       "\n",
       "  reservation_status_date  \n",
       "0              2015-07-01  \n",
       "1              2015-07-01  \n",
       "2              2015-07-02  \n",
       "3              2015-07-02  \n",
       "4              2015-07-03  \n",
       "\n",
       "[5 rows x 32 columns]"
      ]
     },
     "execution_count": 4,
     "metadata": {},
     "output_type": "execute_result"
    }
   ],
   "source": [
    "data.head()"
   ]
  },
  {
   "cell_type": "markdown",
   "metadata": {},
   "source": [
    "### 2. Drop the columns less relevant to our goal\n",
    "After reading through the data description, we decide that the columns listed below are less informative regarding our analysis goal. Therefore we are going to drop these columns.\n",
    "- **arrival_date_week_number**: Week number of year for arrival date.\n",
    "- **babies**: Number of babies.\n",
    "- **distribution_channel**: Booking distribution channel.\n",
    "- **previous_cancellations**: Number of previous bookings that were cancelled by the customer prior to the current booking.\n",
    "- **previous_bookings_not_canceled**: Number of previous bookings not cancelled by the customer prior to the current booking.\n",
    "- **booking_changes**: Number of changes/amendments made to the booking from the moment the booking was entered on the PMS until the moment of check-in or cancellation.\n",
    "- **deposit_type**: Indication on if the customer made a deposit to guarantee the booking. This variable can assume three categories.\n",
    "- **agent**: ID of the travel agency that made the booking.\n",
    "- **company**: indicates the ID of the company/entity that made the booking or responsible for paying the booking. This is non-relevant to our analysis, we therefore discard this column.\n",
    "- **required_car_parking_spaces**: Number of car parking spaces required by the customer.\n",
    "- **total_of_special_requests**: Number of special requests made by the customer (e.g. twin bed or high floor).\n",
    "- **reservation_status**: Reservation last status, assuming one of three categories: 'Canceled', 'Check-Out', 'No-Show'.\n",
    "- **reservation_status_date**: Date at which the last status was set."
   ]
  },
  {
   "cell_type": "code",
   "execution_count": 5,
   "metadata": {},
   "outputs": [],
   "source": [
    "cols_to_drop = ['arrival_date_week_number', 'babies', 'distribution_channel', \\\n",
    "                'previous_cancellations', 'previous_bookings_not_canceled', 'booking_changes', \\\n",
    "                'deposit_type', 'agent', 'company', 'required_car_parking_spaces', \\\n",
    "                'total_of_special_requests', 'reservation_status', 'reservation_status_date']\n",
    "data_clean = data.drop(cols_to_drop, axis=1)\n",
    "del cols_to_drop"
   ]
  },
  {
   "cell_type": "markdown",
   "metadata": {},
   "source": [
    "Take a look at the data information after dropping the irrelevant columns."
   ]
  },
  {
   "cell_type": "code",
   "execution_count": 6,
   "metadata": {},
   "outputs": [
    {
     "name": "stdout",
     "output_type": "stream",
     "text": [
      "<class 'pandas.core.frame.DataFrame'>\n",
      "RangeIndex: 119390 entries, 0 to 119389\n",
      "Data columns (total 19 columns):\n",
      " #   Column                     Non-Null Count   Dtype  \n",
      "---  ------                     --------------   -----  \n",
      " 0   hotel                      119390 non-null  object \n",
      " 1   is_canceled                119390 non-null  int64  \n",
      " 2   lead_time                  119390 non-null  int64  \n",
      " 3   arrival_date_year          119390 non-null  int64  \n",
      " 4   arrival_date_month         119390 non-null  object \n",
      " 5   arrival_date_day_of_month  119390 non-null  int64  \n",
      " 6   stays_in_weekend_nights    119390 non-null  int64  \n",
      " 7   stays_in_week_nights       119390 non-null  int64  \n",
      " 8   adults                     119390 non-null  int64  \n",
      " 9   children                   119386 non-null  float64\n",
      " 10  meal                       119390 non-null  object \n",
      " 11  country                    118902 non-null  object \n",
      " 12  market_segment             119390 non-null  object \n",
      " 13  is_repeated_guest          119390 non-null  int64  \n",
      " 14  reserved_room_type         119390 non-null  object \n",
      " 15  assigned_room_type         119390 non-null  object \n",
      " 16  days_in_waiting_list       119390 non-null  int64  \n",
      " 17  customer_type              119390 non-null  object \n",
      " 18  adr                        119390 non-null  float64\n",
      "dtypes: float64(2), int64(9), object(8)\n",
      "memory usage: 17.3+ MB\n"
     ]
    }
   ],
   "source": [
    "data_clean.info()"
   ]
  },
  {
   "cell_type": "code",
   "execution_count": 7,
   "metadata": {},
   "outputs": [
    {
     "data": {
      "text/plain": [
       "0.40874445095904177"
      ]
     },
     "execution_count": 7,
     "metadata": {},
     "output_type": "execute_result"
    }
   ],
   "source": [
    "(119390 - 118902) / 119390 * 100"
   ]
  },
  {
   "cell_type": "markdown",
   "metadata": {},
   "source": [
    "As we can see above, only the column **country** has *NULL* values. Because these *NULL* values only account for 0.41% of the total data, we discard these rows."
   ]
  },
  {
   "cell_type": "code",
   "execution_count": 8,
   "metadata": {},
   "outputs": [
    {
     "name": "stdout",
     "output_type": "stream",
     "text": [
      "<class 'pandas.core.frame.DataFrame'>\n",
      "Int64Index: 118898 entries, 0 to 119389\n",
      "Data columns (total 19 columns):\n",
      " #   Column                     Non-Null Count   Dtype  \n",
      "---  ------                     --------------   -----  \n",
      " 0   hotel                      118898 non-null  object \n",
      " 1   is_canceled                118898 non-null  int64  \n",
      " 2   lead_time                  118898 non-null  int64  \n",
      " 3   arrival_date_year          118898 non-null  int64  \n",
      " 4   arrival_date_month         118898 non-null  object \n",
      " 5   arrival_date_day_of_month  118898 non-null  int64  \n",
      " 6   stays_in_weekend_nights    118898 non-null  int64  \n",
      " 7   stays_in_week_nights       118898 non-null  int64  \n",
      " 8   adults                     118898 non-null  int64  \n",
      " 9   children                   118898 non-null  float64\n",
      " 10  meal                       118898 non-null  object \n",
      " 11  country                    118898 non-null  object \n",
      " 12  market_segment             118898 non-null  object \n",
      " 13  is_repeated_guest          118898 non-null  int64  \n",
      " 14  reserved_room_type         118898 non-null  object \n",
      " 15  assigned_room_type         118898 non-null  object \n",
      " 16  days_in_waiting_list       118898 non-null  int64  \n",
      " 17  customer_type              118898 non-null  object \n",
      " 18  adr                        118898 non-null  float64\n",
      "dtypes: float64(2), int64(9), object(8)\n",
      "memory usage: 18.1+ MB\n"
     ]
    }
   ],
   "source": [
    "data_clean.dropna(inplace=True)\n",
    "data_clean.info()"
   ]
  },
  {
   "cell_type": "markdown",
   "metadata": {},
   "source": [
    "We can see that there are **118898** transactrions and **19** columns left in this dataset.\n",
    "\n",
    "### 3. Look into the remaining data, decide further cleaning strategies\n",
    "\n",
    "The basic data cleaning is done. Now let's take a closer look at the data column by column. The necessary within-column operations such as *value replacement* will be conducted during the process. Other row-level and column-level operations will be conducted together after this process to keep the data to stay integrated.  \n",
    "  \n",
    "Now I am going to list the values in each column and the corresponding counts. The first row is the column meaning, second column is the column name.\n",
    "#### The type of hotel - Resort / City Hotel"
   ]
  },
  {
   "cell_type": "code",
   "execution_count": 9,
   "metadata": {},
   "outputs": [
    {
     "name": "stdout",
     "output_type": "stream",
     "text": [
      "Column:  hotel \n",
      " City Hotel      79302\n",
      "Resort Hotel    39596\n",
      "Name: hotel, dtype: int64\n"
     ]
    }
   ],
   "source": [
    "idx_column = 0\n",
    "\n",
    "print('Column: ', data_clean.columns[idx_column], '\\n', data_clean[data_clean.columns[idx_column]].value_counts(ascending=False))\n",
    "idx_column += 1"
   ]
  },
  {
   "cell_type": "markdown",
   "metadata": {},
   "source": [
    "#### If the booking was canceled (1) or not (0)"
   ]
  },
  {
   "cell_type": "code",
   "execution_count": 10,
   "metadata": {},
   "outputs": [
    {
     "name": "stdout",
     "output_type": "stream",
     "text": [
      "Column:  is_canceled \n",
      " 0    74745\n",
      "1    44153\n",
      "Name: is_canceled, dtype: int64\n"
     ]
    }
   ],
   "source": [
    "print('Column: ', data_clean.columns[idx_column], '\\n', data_clean[data_clean.columns[idx_column]].value_counts(ascending=False))\n",
    "idx_column += 1"
   ]
  },
  {
   "cell_type": "markdown",
   "metadata": {},
   "source": [
    "**NOTE**: eventually only bookings that were not canceled will be put into analysis.\n",
    "\n",
    "#### Number of days that elapsed between the entering date of the booking into the PMS and the arrival date"
   ]
  },
  {
   "cell_type": "code",
   "execution_count": 11,
   "metadata": {},
   "outputs": [
    {
     "name": "stdout",
     "output_type": "stream",
     "text": [
      "Column:  lead_time \n",
      " 0      6223\n",
      "1      3393\n",
      "2      2033\n",
      "3      1802\n",
      "4      1696\n",
      "       ... \n",
      "737       1\n",
      "370       1\n",
      "435       1\n",
      "458       1\n",
      "709       1\n",
      "Name: lead_time, Length: 479, dtype: int64\n"
     ]
    }
   ],
   "source": [
    "print('Column: ', data_clean.columns[idx_column], '\\n', data_clean[data_clean.columns[idx_column]].value_counts(ascending=False))\n",
    "idx_column += 1"
   ]
  },
  {
   "cell_type": "markdown",
   "metadata": {},
   "source": [
    "#### Year of arrival date"
   ]
  },
  {
   "cell_type": "code",
   "execution_count": 12,
   "metadata": {},
   "outputs": [
    {
     "name": "stdout",
     "output_type": "stream",
     "text": [
      "Column:  arrival_date_year \n",
      " 2016    56435\n",
      "2017    40604\n",
      "2015    21859\n",
      "Name: arrival_date_year, dtype: int64\n"
     ]
    }
   ],
   "source": [
    "print('Column: ', data_clean.columns[idx_column], '\\n', data_clean[data_clean.columns[idx_column]].value_counts(ascending=False))\n",
    "idx_column += 1"
   ]
  },
  {
   "cell_type": "markdown",
   "metadata": {},
   "source": [
    "#### Month of arrival date"
   ]
  },
  {
   "cell_type": "code",
   "execution_count": 13,
   "metadata": {},
   "outputs": [
    {
     "name": "stdout",
     "output_type": "stream",
     "text": [
      "Column:  arrival_date_month \n",
      " August       13852\n",
      "July         12628\n",
      "May          11779\n",
      "October      11095\n",
      "April        11045\n",
      "June         10927\n",
      "September    10467\n",
      "March         9739\n",
      "February      8012\n",
      "November      6752\n",
      "December      6728\n",
      "January       5874\n",
      "Name: arrival_date_month, dtype: int64\n"
     ]
    }
   ],
   "source": [
    "print('Column: ', data_clean.columns[idx_column], '\\n', data_clean[data_clean.columns[idx_column]].value_counts(ascending=False))\n",
    "idx_column += 1"
   ]
  },
  {
   "cell_type": "markdown",
   "metadata": {},
   "source": [
    "#### Day of arrival date"
   ]
  },
  {
   "cell_type": "code",
   "execution_count": 14,
   "metadata": {},
   "outputs": [
    {
     "name": "stdout",
     "output_type": "stream",
     "text": [
      "Column:  arrival_date_day_of_month \n",
      " 17    4390\n",
      "5     4294\n",
      "15    4161\n",
      "25    4144\n",
      "26    4137\n",
      "9     4082\n",
      "12    4077\n",
      "16    4058\n",
      "19    4041\n",
      "2     4037\n",
      "20    4019\n",
      "18    3986\n",
      "24    3980\n",
      "28    3927\n",
      "8     3908\n",
      "3     3833\n",
      "30    3833\n",
      "6     3813\n",
      "14    3799\n",
      "27    3787\n",
      "21    3754\n",
      "4     3747\n",
      "13    3723\n",
      "7     3657\n",
      "1     3609\n",
      "23    3608\n",
      "11    3590\n",
      "22    3584\n",
      "29    3567\n",
      "10    3554\n",
      "31    2199\n",
      "Name: arrival_date_day_of_month, dtype: int64\n"
     ]
    }
   ],
   "source": [
    "print('Column: ', data_clean.columns[idx_column], '\\n', data_clean[data_clean.columns[idx_column]].value_counts(ascending=False))\n",
    "idx_column += 1"
   ]
  },
  {
   "cell_type": "markdown",
   "metadata": {},
   "source": [
    "**NOTE**: in the next step, we will combine the year, month, date into a single date column. Also we will select the data between **1 July 2015** to **1 July 2017** for the subsequent analyses.\n",
    "\n",
    "#### Number of weekend nights (Saturday or Sunday) the guest stayed or booked to stay at the hotel"
   ]
  },
  {
   "cell_type": "code",
   "execution_count": 15,
   "metadata": {},
   "outputs": [
    {
     "name": "stdout",
     "output_type": "stream",
     "text": [
      "Column:  stays_in_weekend_nights \n",
      " 0     51680\n",
      "2     33249\n",
      "1     30526\n",
      "4      1849\n",
      "3      1253\n",
      "6       153\n",
      "5        78\n",
      "8        60\n",
      "7        19\n",
      "9        11\n",
      "10        7\n",
      "12        5\n",
      "16        3\n",
      "13        3\n",
      "14        2\n",
      "Name: stays_in_weekend_nights, dtype: int64\n"
     ]
    }
   ],
   "source": [
    "print('Column: ', data_clean.columns[idx_column], '\\n', data_clean[data_clean.columns[idx_column]].value_counts(ascending=False))\n",
    "idx_column += 1"
   ]
  },
  {
   "cell_type": "markdown",
   "metadata": {},
   "source": [
    "#### Number of week nights (Monday to Friday) the guest stayed or booked to stay at the hotel"
   ]
  },
  {
   "cell_type": "code",
   "execution_count": 16,
   "metadata": {},
   "outputs": [
    {
     "name": "stdout",
     "output_type": "stream",
     "text": [
      "Column:  stays_in_week_nights \n",
      " 2     33574\n",
      "1     30091\n",
      "3     22203\n",
      "5     11051\n",
      "4      9554\n",
      "0      7593\n",
      "6      1491\n",
      "10     1030\n",
      "7      1027\n",
      "8       654\n",
      "9       231\n",
      "15       85\n",
      "11       55\n",
      "19       44\n",
      "12       42\n",
      "20       41\n",
      "14       35\n",
      "13       27\n",
      "16       16\n",
      "21       15\n",
      "22        7\n",
      "18        6\n",
      "25        6\n",
      "30        5\n",
      "17        4\n",
      "24        3\n",
      "40        2\n",
      "26        1\n",
      "32        1\n",
      "33        1\n",
      "34        1\n",
      "35        1\n",
      "41        1\n",
      "Name: stays_in_week_nights, dtype: int64\n"
     ]
    }
   ],
   "source": [
    "print('Column: ', data_clean.columns[idx_column], '\\n', data_clean[data_clean.columns[idx_column]].value_counts(ascending=False))\n",
    "idx_column += 1"
   ]
  },
  {
   "cell_type": "markdown",
   "metadata": {},
   "source": [
    "**NOTE**: we will add up the values in **stays_in_week_nights** and **stays_in_week_nights** as a new column representing overall stay length.\n",
    "\n",
    "#### Number of adults"
   ]
  },
  {
   "cell_type": "code",
   "execution_count": 17,
   "metadata": {},
   "outputs": [
    {
     "name": "stdout",
     "output_type": "stream",
     "text": [
      "Column:  adults \n",
      " 2     89495\n",
      "1     22735\n",
      "3      6197\n",
      "0       393\n",
      "4        62\n",
      "26        5\n",
      "27        2\n",
      "20        2\n",
      "5         2\n",
      "55        1\n",
      "50        1\n",
      "40        1\n",
      "10        1\n",
      "6         1\n",
      "Name: adults, dtype: int64\n"
     ]
    }
   ],
   "source": [
    "print('Column: ', data_clean.columns[idx_column], '\\n', data_clean[data_clean.columns[idx_column]].value_counts(ascending=False))\n",
    "idx_column += 1"
   ]
  },
  {
   "cell_type": "markdown",
   "metadata": {},
   "source": [
    "#### Number of children"
   ]
  },
  {
   "cell_type": "code",
   "execution_count": 18,
   "metadata": {},
   "outputs": [
    {
     "name": "stdout",
     "output_type": "stream",
     "text": [
      "Column:  children \n",
      " 0.0     110319\n",
      "1.0       4852\n",
      "2.0       3650\n",
      "3.0         76\n",
      "10.0         1\n",
      "Name: children, dtype: int64\n"
     ]
    }
   ],
   "source": [
    "print('Column: ', data_clean.columns[idx_column], '\\n', data_clean[data_clean.columns[idx_column]].value_counts(ascending=False))\n",
    "idx_column += 1"
   ]
  },
  {
   "cell_type": "markdown",
   "metadata": {},
   "source": [
    "**NOTE**: the two columns **adults** and **children** will be conbined as a new column **guest_number**.\n",
    "\n",
    "#### Type of meal booked. \n",
    "Categories are presented in standard hospitality meal packages: \n",
    "- **Undefined**/**SC** – no meal package;\n",
    "- **BB** – Bed & Breakfast; \n",
    "- **HB** – Half board (breakfast and one other meal – usually dinner); \n",
    "- **FB** – Full board (breakfast, lunch and dinner)"
   ]
  },
  {
   "cell_type": "code",
   "execution_count": 19,
   "metadata": {},
   "outputs": [
    {
     "name": "stdout",
     "output_type": "stream",
     "text": [
      "Column:  meal \n",
      " BB           91863\n",
      "HB           14434\n",
      "SC           10638\n",
      "Undefined     1165\n",
      "FB             798\n",
      "Name: meal, dtype: int64\n"
     ]
    }
   ],
   "source": [
    "print('Column: ', data_clean.columns[idx_column], '\\n', data_clean[data_clean.columns[idx_column]].value_counts(ascending=False))\n",
    "idx_column += 1"
   ]
  },
  {
   "cell_type": "markdown",
   "metadata": {},
   "source": [
    "According to the data description, the value *Undefined* and *SC* have the same meaning. We convert all *Undefiend* value to *SC* to reduce confuse."
   ]
  },
  {
   "cell_type": "code",
   "execution_count": 20,
   "metadata": {},
   "outputs": [
    {
     "data": {
      "text/plain": [
       "BB    91863\n",
       "HB    14434\n",
       "SC    11803\n",
       "FB      798\n",
       "Name: meal, dtype: int64"
      ]
     },
     "execution_count": 20,
     "metadata": {},
     "output_type": "execute_result"
    }
   ],
   "source": [
    "data_clean['meal'] = data_clean['meal'].map({'Undefined': 'SC', 'BB': 'BB', 'HB': 'HB', 'SC': 'SC', 'FB': 'FB'});\n",
    "data_clean['meal'].value_counts(ascending=False)"
   ]
  },
  {
   "cell_type": "markdown",
   "metadata": {},
   "source": [
    "#### Country of origin. Categories are represented in the ISO 3155–3:2013 format"
   ]
  },
  {
   "cell_type": "code",
   "execution_count": 21,
   "metadata": {},
   "outputs": [
    {
     "name": "stdout",
     "output_type": "stream",
     "text": [
      "Column:  country \n",
      " PRT    48586\n",
      "GBR    12129\n",
      "FRA    10415\n",
      "ESP     8568\n",
      "DEU     7287\n",
      "       ...  \n",
      "MRT        1\n",
      "CYM        1\n",
      "HND        1\n",
      "FJI        1\n",
      "BDI        1\n",
      "Name: country, Length: 177, dtype: int64\n"
     ]
    }
   ],
   "source": [
    "print('Column: ', data_clean.columns[idx_column], '\\n', data_clean[data_clean.columns[idx_column]].value_counts(ascending=False))\n",
    "idx_column += 1"
   ]
  },
  {
   "cell_type": "markdown",
   "metadata": {},
   "source": [
    "#### Market segment designation."
   ]
  },
  {
   "cell_type": "code",
   "execution_count": 22,
   "metadata": {},
   "outputs": [
    {
     "name": "stdout",
     "output_type": "stream",
     "text": [
      "Column:  market_segment \n",
      " Online TA        56402\n",
      "Offline TA/TO    24160\n",
      "Groups           19806\n",
      "Direct           12448\n",
      "Corporate         5111\n",
      "Complementary      734\n",
      "Aviation           237\n",
      "Name: market_segment, dtype: int64\n"
     ]
    }
   ],
   "source": [
    "print('Column: ', data_clean.columns[idx_column], '\\n', data_clean[data_clean.columns[idx_column]].value_counts(ascending=False))\n",
    "idx_column += 1"
   ]
  },
  {
   "cell_type": "markdown",
   "metadata": {},
   "source": [
    "#### Value indicating if the booking name was from a repeated guest (1) or not (0)."
   ]
  },
  {
   "cell_type": "code",
   "execution_count": 23,
   "metadata": {},
   "outputs": [
    {
     "name": "stdout",
     "output_type": "stream",
     "text": [
      "Column:  is_repeated_guest \n",
      " 0    115092\n",
      "1      3806\n",
      "Name: is_repeated_guest, dtype: int64\n"
     ]
    }
   ],
   "source": [
    "print('Column: ', data_clean.columns[idx_column], '\\n', data_clean[data_clean.columns[idx_column]].value_counts(ascending=False))\n",
    "idx_column += 1"
   ]
  },
  {
   "cell_type": "markdown",
   "metadata": {},
   "source": [
    "#### Code of room type reserved. \n",
    "Code is presented instead of designation for anonymity reasons."
   ]
  },
  {
   "cell_type": "code",
   "execution_count": 24,
   "metadata": {},
   "outputs": [
    {
     "name": "stdout",
     "output_type": "stream",
     "text": [
      "Column:  reserved_room_type \n",
      " A    85601\n",
      "D    19173\n",
      "E     6497\n",
      "F     2890\n",
      "G     2083\n",
      "B     1114\n",
      "C      931\n",
      "H      601\n",
      "L        6\n",
      "P        2\n",
      "Name: reserved_room_type, dtype: int64\n"
     ]
    }
   ],
   "source": [
    "print('Column: ', data_clean.columns[idx_column], '\\n', data_clean[data_clean.columns[idx_column]].value_counts(ascending=False))\n",
    "idx_column += 1"
   ]
  },
  {
   "cell_type": "markdown",
   "metadata": {},
   "source": [
    "#### Code for the type of room assigned to the booking. \n",
    "Sometimes the assigned room type differs from the reserved room type due to hotel operation reasons (e.g. overbooking) or by customer request. Code is presented instead of designation for anonymity reasons."
   ]
  },
  {
   "cell_type": "code",
   "execution_count": 25,
   "metadata": {},
   "outputs": [
    {
     "name": "stdout",
     "output_type": "stream",
     "text": [
      "Column:  assigned_room_type \n",
      " A    73863\n",
      "D    25166\n",
      "E     7738\n",
      "F     3732\n",
      "G     2539\n",
      "C     2354\n",
      "B     2159\n",
      "H      708\n",
      "I      357\n",
      "K      279\n",
      "P        2\n",
      "L        1\n",
      "Name: assigned_room_type, dtype: int64\n"
     ]
    }
   ],
   "source": [
    "print('Column: ', data_clean.columns[idx_column], '\\n', data_clean[data_clean.columns[idx_column]].value_counts(ascending=False))\n",
    "idx_column += 1"
   ]
  },
  {
   "cell_type": "markdown",
   "metadata": {},
   "source": [
    "#### Number of days the booking was in the waiting list before it was confirmed to the customer."
   ]
  },
  {
   "cell_type": "code",
   "execution_count": 26,
   "metadata": {},
   "outputs": [
    {
     "name": "stdout",
     "output_type": "stream",
     "text": [
      "Column:  days_in_waiting_list \n",
      " 0      115200\n",
      "39        227\n",
      "58        164\n",
      "44        141\n",
      "31        127\n",
      "        ...  \n",
      "175         1\n",
      "117         1\n",
      "89          1\n",
      "92          1\n",
      "183         1\n",
      "Name: days_in_waiting_list, Length: 128, dtype: int64\n"
     ]
    }
   ],
   "source": [
    "print('Column: ', data_clean.columns[idx_column], '\\n', data_clean[data_clean.columns[idx_column]].value_counts(ascending=False))\n",
    "idx_column += 1"
   ]
  },
  {
   "cell_type": "markdown",
   "metadata": {},
   "source": [
    "#### Type of booking\n",
    "assuming one of four categories:\n",
    "- **Contract** - when the booking has an allotment or other type of contract associated to it;\n",
    "- **Group** – when the booking is associated to a group;\n",
    "- **Transient** – when the booking is not part of a group or contract, and is not associated to other transient booking;\n",
    "- **Transient-party** – when the booking is transient, but is associated to at least other transient booking."
   ]
  },
  {
   "cell_type": "code",
   "execution_count": 27,
   "metadata": {},
   "outputs": [
    {
     "name": "stdout",
     "output_type": "stream",
     "text": [
      "Column:  customer_type \n",
      " Transient          89174\n",
      "Transient-Party    25078\n",
      "Contract            4076\n",
      "Group                570\n",
      "Name: customer_type, dtype: int64\n"
     ]
    }
   ],
   "source": [
    "print('Column: ', data_clean.columns[idx_column], '\\n', data_clean[data_clean.columns[idx_column]].value_counts(ascending=False))\n",
    "idx_column += 1"
   ]
  },
  {
   "cell_type": "markdown",
   "metadata": {},
   "source": [
    "#### Average Daily Rate (adr) as defined by dividing the sum of all lodging transactions by the total number of staying nights."
   ]
  },
  {
   "cell_type": "code",
   "execution_count": 28,
   "metadata": {},
   "outputs": [
    {
     "name": "stdout",
     "output_type": "stream",
     "text": [
      "Column:  adr \n",
      " 62.00     3753\n",
      "75.00     2710\n",
      "90.00     2471\n",
      "65.00     2397\n",
      "0.00      1938\n",
      "          ... \n",
      "202.74       1\n",
      "87.64        1\n",
      "69.83        1\n",
      "160.83       1\n",
      "35.64        1\n",
      "Name: adr, Length: 8870, dtype: int64\n"
     ]
    }
   ],
   "source": [
    "print('Column: ', data_clean.columns[idx_column], '\\n', data_clean[data_clean.columns[idx_column]].value_counts(ascending=False))"
   ]
  },
  {
   "cell_type": "markdown",
   "metadata": {},
   "source": [
    "It is interesting to see the value 0 appears 1938 times, because as a rate measure **adr** is supposed to be above 0. Let's take a further look to see if there are more bizarre **adr** values."
   ]
  },
  {
   "cell_type": "code",
   "execution_count": 29,
   "metadata": {},
   "outputs": [
    {
     "data": {
      "text/plain": [
       " 0.00    1938\n",
       "-6.38       1\n",
       "Name: adr, dtype: int64"
      ]
     },
     "execution_count": 29,
     "metadata": {},
     "output_type": "execute_result"
    }
   ],
   "source": [
    "data_clean[data_clean['adr']<=0]['adr'].value_counts()"
   ]
  },
  {
   "cell_type": "code",
   "execution_count": 30,
   "metadata": {},
   "outputs": [
    {
     "data": {
      "text/plain": [
       "0    1736\n",
       "1     203\n",
       "Name: is_canceled, dtype: int64"
      ]
     },
     "execution_count": 30,
     "metadata": {},
     "output_type": "execute_result"
    }
   ],
   "source": [
    "data_clean[data_clean['adr']<=0]['is_canceled'].value_counts()"
   ]
  },
  {
   "cell_type": "code",
   "execution_count": 31,
   "metadata": {},
   "outputs": [
    {
     "data": {
      "text/plain": [
       "1.6308096015071745"
      ]
     },
     "execution_count": 31,
     "metadata": {},
     "output_type": "execute_result"
    }
   ],
   "source": [
    "1939 / data_clean.shape[0] * 100"
   ]
  },
  {
   "cell_type": "markdown",
   "metadata": {},
   "source": [
    "We can see that there are 1938 entries whose **adr** are 0, 1 entry whose **adr** is a negative value -6.38. Also those values are not the results of booking cancelation. Because the value 0 or -6.38 account for 1.63% of the total data, we drop them in the next step.\n",
    "\n",
    "### 4. Further data cleaning, prepare the data for the subsequent analyses\n",
    "#### Information integration\n",
    "- Integrate **adults**, **children** into a new column **guest_number**.\n",
    "- Integrate **stays_in_weekend_nights**, **stays_in_week_nights** into a new column **stay_length**.\n",
    "\n",
    "Then delete the **adults**, **children**, **stays_in_weekend_nights** and **stays_in_week_nights**."
   ]
  },
  {
   "cell_type": "code",
   "execution_count": 32,
   "metadata": {},
   "outputs": [
    {
     "name": "stdout",
     "output_type": "stream",
     "text": [
      "<class 'pandas.core.frame.DataFrame'>\n",
      "Int64Index: 118898 entries, 0 to 119389\n",
      "Data columns (total 17 columns):\n",
      " #   Column                     Non-Null Count   Dtype  \n",
      "---  ------                     --------------   -----  \n",
      " 0   hotel                      118898 non-null  object \n",
      " 1   is_canceled                118898 non-null  int64  \n",
      " 2   lead_time                  118898 non-null  int64  \n",
      " 3   arrival_date_year          118898 non-null  int64  \n",
      " 4   arrival_date_month         118898 non-null  object \n",
      " 5   arrival_date_day_of_month  118898 non-null  int64  \n",
      " 6   meal                       118898 non-null  object \n",
      " 7   country                    118898 non-null  object \n",
      " 8   market_segment             118898 non-null  object \n",
      " 9   is_repeated_guest          118898 non-null  int64  \n",
      " 10  reserved_room_type         118898 non-null  object \n",
      " 11  assigned_room_type         118898 non-null  object \n",
      " 12  days_in_waiting_list       118898 non-null  int64  \n",
      " 13  customer_type              118898 non-null  object \n",
      " 14  adr                        118898 non-null  float64\n",
      " 15  guest_number               118898 non-null  float64\n",
      " 16  stay_length                118898 non-null  int64  \n",
      "dtypes: float64(2), int64(7), object(8)\n",
      "memory usage: 16.3+ MB\n"
     ]
    }
   ],
   "source": [
    "data_clean['children'].astype('int64')\n",
    "data_clean['guest_number'] = data_clean['adults'] + data_clean['children']\n",
    "data_clean['stay_length'] = data_clean['stays_in_weekend_nights'] + data_clean['stays_in_week_nights']\n",
    "data_clean.drop(['adults', 'children', 'stays_in_weekend_nights', 'stays_in_week_nights'], axis=1, inplace=True)\n",
    "data_clean.info()"
   ]
  },
  {
   "cell_type": "markdown",
   "metadata": {},
   "source": [
    "Check the values in **guest_number**."
   ]
  },
  {
   "cell_type": "code",
   "execution_count": 33,
   "metadata": {},
   "outputs": [
    {
     "data": {
      "text/plain": [
       "2.0     82594\n",
       "1.0     22299\n",
       "3.0      9919\n",
       "4.0      3797\n",
       "0.0       170\n",
       "5.0       104\n",
       "26.0        5\n",
       "27.0        2\n",
       "20.0        2\n",
       "55.0        1\n",
       "6.0         1\n",
       "12.0        1\n",
       "10.0        1\n",
       "50.0        1\n",
       "40.0        1\n",
       "Name: guest_number, dtype: int64"
      ]
     },
     "execution_count": 33,
     "metadata": {},
     "output_type": "execute_result"
    }
   ],
   "source": [
    "data_clean['guest_number'].value_counts(ascending=False)"
   ]
  },
  {
   "cell_type": "markdown",
   "metadata": {},
   "source": [
    "There are 170 entries where the **guest_number** is 0, which is abnormal. We drop these entries."
   ]
  },
  {
   "cell_type": "code",
   "execution_count": 34,
   "metadata": {},
   "outputs": [
    {
     "data": {
      "text/plain": [
       "2.0     82594\n",
       "1.0     22299\n",
       "3.0      9919\n",
       "4.0      3797\n",
       "5.0       104\n",
       "26.0        5\n",
       "27.0        2\n",
       "20.0        2\n",
       "55.0        1\n",
       "6.0         1\n",
       "12.0        1\n",
       "10.0        1\n",
       "50.0        1\n",
       "40.0        1\n",
       "Name: guest_number, dtype: int64"
      ]
     },
     "execution_count": 34,
     "metadata": {},
     "output_type": "execute_result"
    }
   ],
   "source": [
    "data_clean.drop(data_clean[data_clean['guest_number']==0].index, inplace=True)\n",
    "data_clean['guest_number'].value_counts(ascending=False)"
   ]
  },
  {
   "cell_type": "markdown",
   "metadata": {},
   "source": [
    "Check the values in **stay_length**."
   ]
  },
  {
   "cell_type": "code",
   "execution_count": 35,
   "metadata": {},
   "outputs": [
    {
     "data": {
      "text/plain": [
       "2     27518\n",
       "3     27013\n",
       "1     20781\n",
       "4     17353\n",
       "7      8626\n",
       "5      7752\n",
       "6      3839\n",
       "8      1151\n",
       "10     1131\n",
       "14      910\n",
       "9       837\n",
       "0       640\n",
       "11      392\n",
       "12      220\n",
       "13      139\n",
       "21       71\n",
       "15       71\n",
       "16       40\n",
       "25       37\n",
       "18       35\n",
       "28       34\n",
       "19       22\n",
       "17       20\n",
       "20       14\n",
       "29       13\n",
       "30       13\n",
       "22       13\n",
       "23        8\n",
       "24        6\n",
       "26        6\n",
       "35        5\n",
       "27        4\n",
       "42        4\n",
       "33        3\n",
       "56        2\n",
       "48        1\n",
       "34        1\n",
       "38        1\n",
       "45        1\n",
       "46        1\n",
       "Name: stay_length, dtype: int64"
      ]
     },
     "execution_count": 35,
     "metadata": {},
     "output_type": "execute_result"
    }
   ],
   "source": [
    "data_clean['stay_length'].value_counts(ascending=False)"
   ]
  },
  {
   "cell_type": "code",
   "execution_count": 36,
   "metadata": {},
   "outputs": [
    {
     "data": {
      "text/plain": [
       "0    617\n",
       "1     23\n",
       "Name: is_canceled, dtype: int64"
      ]
     },
     "execution_count": 36,
     "metadata": {},
     "output_type": "execute_result"
    }
   ],
   "source": [
    "data_clean[data_clean['stay_length']==0]['is_canceled'].value_counts()"
   ]
  },
  {
   "cell_type": "markdown",
   "metadata": {},
   "source": [
    "There are 640 entries whose **stay_length** values are 0, and not all of them are because of booking cancellation. Therefore we drop these entries."
   ]
  },
  {
   "cell_type": "code",
   "execution_count": 37,
   "metadata": {},
   "outputs": [
    {
     "data": {
      "text/plain": [
       "2     27518\n",
       "3     27013\n",
       "1     20781\n",
       "4     17353\n",
       "7      8626\n",
       "5      7752\n",
       "6      3839\n",
       "8      1151\n",
       "10     1131\n",
       "14      910\n",
       "9       837\n",
       "11      392\n",
       "12      220\n",
       "13      139\n",
       "21       71\n",
       "15       71\n",
       "16       40\n",
       "25       37\n",
       "18       35\n",
       "28       34\n",
       "19       22\n",
       "17       20\n",
       "20       14\n",
       "22       13\n",
       "29       13\n",
       "30       13\n",
       "23        8\n",
       "24        6\n",
       "26        6\n",
       "35        5\n",
       "27        4\n",
       "42        4\n",
       "33        3\n",
       "56        2\n",
       "48        1\n",
       "34        1\n",
       "38        1\n",
       "45        1\n",
       "46        1\n",
       "Name: stay_length, dtype: int64"
      ]
     },
     "execution_count": 37,
     "metadata": {},
     "output_type": "execute_result"
    }
   ],
   "source": [
    "data_clean.drop(data_clean[data_clean['stay_length']==0].index, inplace=True)\n",
    "data_clean['stay_length'].value_counts(ascending=False)"
   ]
  },
  {
   "cell_type": "markdown",
   "metadata": {},
   "source": [
    "#### Clean the column ***adr***\n",
    "From the last session we learned that there are **adr** outliers (values equal to or less than 0) and we should drop these 1939 entries."
   ]
  },
  {
   "cell_type": "code",
   "execution_count": 38,
   "metadata": {},
   "outputs": [],
   "source": [
    "data_clean.drop(data_clean[data_clean['adr']<=0].index, inplace=True)"
   ]
  },
  {
   "cell_type": "markdown",
   "metadata": {},
   "source": [
    "#### Combine the date data & focus on the data between 1 July 2015 to 30 June 2017"
   ]
  },
  {
   "cell_type": "code",
   "execution_count": 39,
   "metadata": {},
   "outputs": [],
   "source": [
    "# Convert the month data to numeric format.\n",
    "month_map = {'January': 1, 'February': 2, 'March': 3, 'April': 4, 'May': 5, 'June': 6, 'July': 7, 'August': 8, \\\n",
    "            'September': 9, 'October': 10, 'November': 11, 'December': 12}\n",
    "data_clean['arrival_date_month'] = data_clean['arrival_date_month'].map(month_map)\n",
    "\n",
    "# Combine the columns represent the year, month and day of the month into a single column\n",
    "data_clean['arrival_date_year'] = data_clean['arrival_date_year'].astype('string')\n",
    "data_clean['arrival_date_month'] = data_clean['arrival_date_month'].astype('string')\n",
    "data_clean['arrival_date_day_of_month'] = data_clean['arrival_date_day_of_month'].astype('string')\n",
    "data_clean['date'] = data_clean['arrival_date_year'] + '/' + data_clean['arrival_date_month'] + '/' + \\\n",
    "                    data_clean[ 'arrival_date_day_of_month']\n",
    "\n",
    "def convert_dt(cell):\n",
    "    tmp = cell.split('/')\n",
    "    tmp2 = [int(tt) for tt in tmp]\n",
    "    return dt.datetime(tmp2[0], tmp2[1], tmp2[2])\n",
    "\n",
    "data_clean['date'] = data_clean['date'].apply(convert_dt)\n",
    "data_clean['date'].head()\n",
    "\n",
    "# Limit the analysis to exactly two years: from 1 July 2015 to 1 July 2017\n",
    "data_clean.drop(data_clean[data_clean['date']>dt.datetime(2017, 6, 30)].index, inplace=True)\n",
    "\n",
    "# Now we have the data span across two whole year: 1 July 2015 to 30 June 2016, 1 July 2016 to 30 June 2017.\n",
    "# To make the subsequent more clear, we assign the numerical '1' to the column 'arrival_date_year' for the first year, \n",
    "# and '2' for the secone year.\n",
    "data_clean['arrival_date_year'][(data_clean['date']>=dt.datetime(2015, 7, 1)) & (data_clean['date']<=dt.datetime(2016, 6, 30))] = '1'\n",
    "data_clean['arrival_date_year'][(data_clean['date']>=dt.datetime(2016, 7, 1)) & (data_clean['date']<=dt.datetime(2017, 6, 30))] = '2'\n",
    "del month_map"
   ]
  },
  {
   "cell_type": "markdown",
   "metadata": {},
   "source": [
    "#### Separate the data from the resort hotel and those from the city hotel\n",
    "Because our dataset contains the data from two different types of hotels that has no connection, we are going to perform the analysis on each of them separately. Since now we finished the data cleaning and preparation, let's reset the index of the resulting datasets and save them for the subsequent analyses."
   ]
  },
  {
   "cell_type": "code",
   "execution_count": 40,
   "metadata": {},
   "outputs": [],
   "source": [
    "resort_h = data_clean[data_clean['hotel']=='Resort Hotel']    # The data of the resort hotel\n",
    "city_h = data_clean[data_clean['hotel']=='City Hotel']        # The data of the city hotel\n",
    "data_clean = data_clean.reset_index().drop('index', axis=1)\n",
    "resort_h = resort_h.reset_index().drop(['index', 'hotel'], axis=1)\n",
    "city_h = city_h.reset_index().drop(['index', 'hotel'], axis=1)\n",
    "with pd.ExcelWriter('all_bookings_clean.xlsx') as writer:  \n",
    "    data_clean.to_excel(writer, sheet_name='data')\n",
    "    resort_h.to_excel(writer, sheet_name='rh')\n",
    "    city_h.to_excel(writer, sheet_name='ch')"
   ]
  },
  {
   "cell_type": "markdown",
   "metadata": {},
   "source": [
    "The data lost rate is shown as below."
   ]
  },
  {
   "cell_type": "code",
   "execution_count": 41,
   "metadata": {},
   "outputs": [
    {
     "data": {
      "text/plain": [
       "City Hotel      71430\n",
       "Resort Hotel    35333\n",
       "Name: hotel, dtype: int64"
      ]
     },
     "execution_count": 41,
     "metadata": {},
     "output_type": "execute_result"
    }
   ],
   "source": [
    "data_clean['hotel'].value_counts()"
   ]
  },
  {
   "cell_type": "code",
   "execution_count": 42,
   "metadata": {},
   "outputs": [
    {
     "data": {
      "text/plain": [
       "City Hotel      79330\n",
       "Resort Hotel    40060\n",
       "Name: hotel, dtype: int64"
      ]
     },
     "execution_count": 42,
     "metadata": {},
     "output_type": "execute_result"
    }
   ],
   "source": [
    "data['hotel'].value_counts()"
   ]
  },
  {
   "cell_type": "code",
   "execution_count": 43,
   "metadata": {},
   "outputs": [
    {
     "name": "stdout",
     "output_type": "stream",
     "text": [
      "Total data lost: 10.6%\n",
      "Resort Hotel data lost: 10.0%\n",
      "Overall data lost: 11.8%\n"
     ]
    }
   ],
   "source": [
    "print('Total data lost: {0:.1f}%'.format((data.shape[0] - data_clean.shape[0]) / data.shape[0] * 100))\n",
    "print('Resort Hotel data lost: {0:.1f}%'.format((79330-71430) / 79330 * 100))\n",
    "print('Overall data lost: {0:.1f}%'.format((40060-35333) / 40060 * 100))"
   ]
  },
  {
   "cell_type": "code",
   "execution_count": null,
   "metadata": {},
   "outputs": [],
   "source": []
  }
 ],
 "metadata": {
  "kernelspec": {
   "display_name": "Python 3",
   "language": "python",
   "name": "python3"
  },
  "language_info": {
   "codemirror_mode": {
    "name": "ipython",
    "version": 3
   },
   "file_extension": ".py",
   "mimetype": "text/x-python",
   "name": "python",
   "nbconvert_exporter": "python",
   "pygments_lexer": "ipython3",
   "version": "3.7.4"
  }
 },
 "nbformat": 4,
 "nbformat_minor": 4
}
